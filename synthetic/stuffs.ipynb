{
 "cells": [
  {
   "cell_type": "code",
   "execution_count": 5,
   "metadata": {},
   "outputs": [],
   "source": [
    "import pandas as pd\n",
    "import numpy as np\n",
    "from rus import *"
   ]
  },
  {
   "cell_type": "code",
   "execution_count": 7,
   "metadata": {},
   "outputs": [
    {
     "name": "stdout",
     "output_type": "stream",
     "text": [
      "dict_keys(['0', '1', 'label'])\n",
      "dict_keys(['0', '1', 'label'])\n",
      "dict_keys(['0', '1', 'label'])\n",
      "dict_keys(['0', '1', 'label'])\n",
      "dict_keys(['0', '1', 'label'])\n",
      "dict_keys(['0', '1', 'label'])\n",
      "dict_keys(['0', '1', 'label'])\n",
      "dict_keys(['0', '1', 'label'])\n",
      "dict_keys(['0', '1', 'label'])\n",
      "dict_keys(['0', '1', 'label'])\n"
     ]
    }
   ],
   "source": [
    "SETTINGS = ['redundancy', 'uniqueness0', 'uniqueness1', 'synergy', 'mix1', 'mix2', 'mix3', 'mix4', 'mix5', 'mix6']\n",
    "for setting in SETTINGS:\n",
    "    data_path = '/usr0/home/yuncheng/MultiBench/synthetic/DATA_{}.pickle'.format(setting)\n",
    "    data = pd.read_pickle(data_path)\n",
    "    testdata = (data['test']['0'], data['test']['1'], data['test']['label'])\n",
    "    P, maps = convert_data_to_distribution(*testdata)"
   ]
  },
  {
   "cell_type": "code",
   "execution_count": null,
   "metadata": {},
   "outputs": [],
   "source": []
  }
 ],
 "metadata": {
  "kernelspec": {
   "display_name": "multibench",
   "language": "python",
   "name": "python3"
  },
  "language_info": {
   "codemirror_mode": {
    "name": "ipython",
    "version": 3
   },
   "file_extension": ".py",
   "mimetype": "text/x-python",
   "name": "python",
   "nbconvert_exporter": "python",
   "pygments_lexer": "ipython3",
   "version": "3.9.6"
  },
  "orig_nbformat": 4
 },
 "nbformat": 4,
 "nbformat_minor": 2
}
